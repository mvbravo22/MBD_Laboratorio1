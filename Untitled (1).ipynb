{
 "cells": [
  {
   "cell_type": "code",
   "execution_count": 1,
   "id": "1f88bbbc",
   "metadata": {},
   "outputs": [],
   "source": [
    "import glob\n",
    "import pandas as pd\n",
    "import xml.etree.ElementTree as ET\n",
    "from datetime import datetime\n",
    "import requests\n",
    "from zipfile import ZipFile\n"
   ]
  },
  {
   "cell_type": "code",
   "execution_count": 2,
   "id": "14f803a9",
   "metadata": {},
   "outputs": [],
   "source": [
    "def get_data():\n",
    "    # Definir el archivo remoto para recuperar los datos\n",
    "    print('Se inicia la desarga de archivos')\n",
    "    remote_url = 'http://cf-courses-data.s3.us.cloud-object-storage.appdomain.cloud/IBMDeveloperSkillsNetwork-PY0221EN-SkillsNetwork/labs/module%206/Lab%20-%20Extract%20Transform%20Load/data/datasource.zip'\n",
    "    # Defina el nombre del archivo local para guardar datos\n",
    "    local_file = 'datasource.zip'\n",
    "    # Realizar una solicitud http para datos de archivos remotos\n",
    "    data = requests.get(remote_url)\n",
    "    # Guardar los datos del archivo en una copia local\n",
    "    with open(local_file, 'wb') as f:\n",
    "        f.write(data.content)\n",
    "    with ZipFile(local_file, 'r') as zipObj:\n",
    "        # Se extrae el contenido del directorio\n",
    "        zipObj.extractall('dealership_data')"
   ]
  },
  {
   "cell_type": "code",
   "execution_count": 3,
   "id": "c97425be",
   "metadata": {},
   "outputs": [],
   "source": [
    "def extract_from_csv(file_to_process):\n",
    "    dataframe = pd.read_csv(file_to_process)\n",
    "    return dataframe"
   ]
  },
  {
   "cell_type": "code",
   "execution_count": 4,
   "id": "2f86ab30",
   "metadata": {},
   "outputs": [],
   "source": [
    "def extract_from_json(file_to_process):\n",
    "    dataframe = pd.read_json(file_to_process, lines=True)\n",
    "    return dataframe"
   ]
  },
  {
   "cell_type": "code",
   "execution_count": 5,
   "id": "79eb679a",
   "metadata": {},
   "outputs": [],
   "source": [
    "def extract_from_xml(file_to_process):\n",
    "    dataframe = pd.DataFrame(columns=['car_model', 'year_of_manufacture', 'price', 'fuel'])\n",
    "    tree = ET.parse(file_to_process)\n",
    "    root = tree.getroot()\n",
    "    for person in root:\n",
    "        car_model = person.find(\"car_model\").text\n",
    "        year_of_manufacture = int(person.find(\"year_of_manufacture\").text)\n",
    "        price = float(person.find(\"price\").text)\n",
    "        fuel = person.find(\"fuel\").text\n",
    "        dataframe = dataframe.append(\n",
    "            {\"car_model\": car_model, \"year_of_manufacture\": year_of_manufacture, \"price\": price, \"fuel\": fuel},\n",
    "            ignore_index=True)\n",
    "    return dataframe"
   ]
  },
  {
   "cell_type": "code",
   "execution_count": 6,
   "id": "0b31edbe",
   "metadata": {},
   "outputs": [],
   "source": [
    "def extract():\n",
    "    extracted_data = pd.DataFrame(columns=['car_model', 'year_of_manufacture', 'price', 'fuel'])\n",
    "    # accion para recuperar los archivos csv\n",
    "    for csvfile in glob.glob(\"dealership_data/*.csv\"):\n",
    "        extracted_data = extracted_data.append(extract_from_csv(csvfile), ignore_index=True)\n",
    "    # accion para recuperar los archivo json\n",
    "    for jsonfile in glob.glob(\"dealership_data/*.json\"):\n",
    "        extracted_data = extracted_data.append(extract_from_json(jsonfile), ignore_index=True)\n",
    "    # accion para recuperar los archivos xml\n",
    "    for xmlfile in glob.glob(\"dealership_data/*.xml\"):\n",
    "        extracted_data = extracted_data.append(extract_from_xml(xmlfile), ignore_index=True)\n",
    "    return extracted_data"
   ]
  },
  {
   "cell_type": "code",
   "execution_count": 7,
   "id": "0b1a93c2",
   "metadata": {},
   "outputs": [],
   "source": [
    "def transform(data):\n",
    "    data['price'] = round(data.price, 2)\n",
    "    return data"
   ]
  },
  {
   "cell_type": "code",
   "execution_count": 8,
   "id": "5bd37a48",
   "metadata": {},
   "outputs": [],
   "source": [
    "def load(targetfile, data_to_load):\n",
    "    data_to_load.to_csv(targetfile)"
   ]
  },
  {
   "cell_type": "code",
   "execution_count": 11,
   "id": "f45d5bea",
   "metadata": {},
   "outputs": [
    {
     "name": "stdout",
     "output_type": "stream",
     "text": [
      "Download Used Car Data\n",
      "Se inicia la desarga de archivos\n",
      "ETL Job Started\n",
      "Extract phase Started\n",
      "Extract phase Ended\n",
      "Transform phase Started\n",
      "Transform phase Ended\n",
      "Load phase Started\n",
      "Load phase Ended\n",
      "ETL Job Started\n"
     ]
    }
   ],
   "source": [
    "def log(logfile, message):\n",
    "    timestamp_format = '%H:%M:%S-%h-%d-%Y'\n",
    "    #Hora-Minuto-Segundo-Mes Nombre-Día-Año\n",
    "    now = datetime.now() # obtener la marca de tiempo actual\n",
    "    timestamp = now.strftime(timestamp_format)\n",
    "    with open(logfile,\"a\") as f: \n",
    "        f.write('[' + timestamp + ']: ' + message + '\\n')\n",
    "        print(message)\n",
    "\n",
    "\n",
    "if __name__ == '__main__':\n",
    "\n",
    "    logfile    = \"dealership_logfile.txt\"            # todos los registros de eventos se almacenarán\n",
    "    targetfile = \"dealership_transformed_data.csv\"   # los datos transformados se almacenan\n",
    "    log(logfile, \"Download Used Car Data\")\n",
    "    get_data()\n",
    "    log(logfile, \"ETL Job Started\")\n",
    "    log(logfile, \"Extract phase Started\")\n",
    "    extracted_data = extract() \n",
    "    log(logfile, \"Extract phase Ended\")\n",
    "    log(logfile, \"Transform phase Started\")\n",
    "    transformed_data = transform(extracted_data)\n",
    "    log(logfile, \"Transform phase Ended\")\n",
    "    log(logfile, \"Load phase Started\")\n",
    "    load(targetfile, transformed_data)\n",
    "    log(logfile, \"Load phase Ended\")\n",
    "    log(logfile, \"ETL Job Started\")"
   ]
  },
  {
   "cell_type": "code",
   "execution_count": null,
   "id": "9534e2cf",
   "metadata": {},
   "outputs": [],
   "source": []
  }
 ],
 "metadata": {
  "kernelspec": {
   "display_name": "Python 3 (ipykernel)",
   "language": "python",
   "name": "python3"
  },
  "language_info": {
   "codemirror_mode": {
    "name": "ipython",
    "version": 3
   },
   "file_extension": ".py",
   "mimetype": "text/x-python",
   "name": "python",
   "nbconvert_exporter": "python",
   "pygments_lexer": "ipython3",
   "version": "3.9.7"
  }
 },
 "nbformat": 4,
 "nbformat_minor": 5
}
